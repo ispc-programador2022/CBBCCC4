{
 "cells": [
  {
   "cell_type": "code",
   "execution_count": 7,
   "metadata": {},
   "outputs": [],
   "source": [
    "import requests\n",
    "from bs4 import BeautifulSoup\n",
    "from lxml import etree\n",
    "import pandas as pd\n",
    "import matplotlib.pyplot as plt"
   ]
  },
  {
   "cell_type": "markdown",
   "metadata": {},
   "source": [
    "* from bs4 import BeautifulSoup me va a permitr hacer el scraping del html para ir elemento por elemento de lo que necesitamos encontrar\n",
    "* import requests me permite hacer una solicitud de tipo get para que la pág me devuelva el cod html\n",
    "* lxml etree me sirve para usar xpath dentro de beautifulsoup que me permite buscar y seleccionar (cuando la ruta obtenida es muy larga)teniendo en cuenta la estructura jerárquica del XML.\n",
    "* pandas me permite exportar lo obtenido en un archivo con formato csv."
   ]
  },
  {
   "cell_type": "code",
   "execution_count": 8,
   "metadata": {},
   "outputs": [],
   "source": [
    "sitioweb = requests.get (\"https://listado.mercadolibre.com.ar/aire-acondicionado\")  \n",
    "\n",
    "sitioweb.status_code\n",
    "\n",
    "contenido = sitioweb.text"
   ]
  },
  {
   "cell_type": "markdown",
   "metadata": {},
   "source": [
    "* sitioweb = coloco la web dond quiero extraer la data\n",
    "\n",
    "* contenido = se convierte en texto lo obtenido de variable sitioweb"
   ]
  },
  {
   "cell_type": "code",
   "execution_count": 9,
   "metadata": {},
   "outputs": [],
   "source": [
    "soup = BeautifulSoup (contenido, \"lxml\")"
   ]
  },
  {
   "cell_type": "markdown",
   "metadata": {},
   "source": [
    "* esto me permite obtener el código html completo"
   ]
  },
  {
   "cell_type": "code",
   "execution_count": 11,
   "metadata": {},
   "outputs": [],
   "source": [
    "articulo = soup.find_all(\"h2\", attrs={\"class\":\"ui-search-item__title shops__item-title\"})\n",
    "articulo = [i.text for i in articulo]"
   ]
  },
  {
   "cell_type": "markdown",
   "metadata": {},
   "source": [
    "* articulo=soup.find_all(\"h2\", attrs={\"class\":\"ui-search-item__title shops__item-title\"}) esto nos permite encontrar y extraer todos los títulos de los productos que hay en la clase que especificamos\n",
    "* articulo =[i.text for i in titulos] nos permite justamente que si imprimimos los títulos, nos arroje como resultado cada uno de los productos en forma de texto."
   ]
  },
  {
   "cell_type": "code",
   "execution_count": 12,
   "metadata": {},
   "outputs": [],
   "source": [
    "dom = etree.HTML(str(soup))\n",
    "precios = dom.xpath('//li[@class=\"ui-search-layout__item shops__layout-item\"]//div[@class=\"ui-search-result__content-columns shops__content-columns\"]//div[@class=\"ui-search-result__content-column ui-search-result__content-column--left shops__content-columns-left\"]/div[1]/div//div[@class=\"ui-search-price__second-line shops__price-second-line\"]//span[@class=\"price-tag-amount\"]/span[2]')\n",
    "precios = [i.text for i in precios]"
   ]
  },
  {
   "cell_type": "markdown",
   "metadata": {},
   "source": [
    "* Esto me permite exraer y mostrar como texto finalmente con i.text cada uno de los precios de los productos."
   ]
  },
  {
   "cell_type": "code",
   "execution_count": 14,
   "metadata": {},
   "outputs": [],
   "source": [
    "urls = soup.find_all(\"a\",attrs={\"class\": \"ui-search-item__group__element shops__items-group-details ui-search-link\"})\n",
    "urls = [i.get(\"href\") for i in urls]"
   ]
  },
  {
   "cell_type": "code",
   "execution_count": 15,
   "metadata": {},
   "outputs": [],
   "source": [
    "siguiente = dom.xpath('//div [@class=\"ui-search-pagination shops__pagination-content\"]/ul/li[contains(@class,\"--next\")]/a')[0].get(\"href\")"
   ]
  },
  {
   "cell_type": "markdown",
   "metadata": {},
   "source": [
    "* Esto nos permite encontrar el botón de siguiente para ir avanzando sobre las páginas. El [0].get (\"href\"), lo que me muestra si imprimo la variable siguiente, es justamente la url de la pág que se encuentra en la primer posición. "
   ]
  },
  {
   "cell_type": "code",
   "execution_count": 16,
   "metadata": {},
   "outputs": [],
   "source": [
    "ini = soup.find (\"span\", attrs={\"class\":'andes-pagination__link'}).text\n",
    "ini=int(ini)"
   ]
  },
  {
   "cell_type": "markdown",
   "metadata": {},
   "source": [
    "* Utilizo soup.find porque tengo uno solo atributo no hace falta utilizar xpath, auque podría usarlo que también funciona. Declaro .text para obetener el texto, como en en verdad este código me va imprimir el número de pag en la que me encuentro, lo que hago es declarar que la variable ini es un entero y si imprimo me arroja el número."
   ]
  },
  {
   "cell_type": "code",
   "execution_count": 17,
   "metadata": {},
   "outputs": [],
   "source": [
    "fin = soup.find(\"li\", attrs={'class':\"andes-pagination__page-count\"})\n",
    "fin = int(fin.text.split(\" \")[1])"
   ]
  },
  {
   "cell_type": "markdown",
   "metadata": {},
   "source": [
    "* En este caso se hace algo similar al códido de ini con el código que dice fin donde indicamos que estamos en la pág 40. Como lo que extraigo contiene como primer caracter la palabra de y yo sólo quiero obtener el n°40, declaro la variable como entero y le indico que tome y muestre si imprimo el 2 lugar por eso entre [] coloco el uno, para indicar la posición."
   ]
  },
  {
   "cell_type": "code",
   "execution_count": 32,
   "metadata": {},
   "outputs": [],
   "source": [
    "#Todo este código me va a permitir ir recorriendo cada una de las páginas e ir extrayendo lo que necesito en este caso los articulos y sus respectivos precios\n",
    "#Creo listas donde se van a ir guardado todos los articulos de todas las pág a medida que se valla recorriendo el bucle y pasando de una pag a la otra \n",
    "lista_articulo = []\n",
    "lista_precios = []\n",
    "lista_url = []"
   ]
  },
  {
   "cell_type": "code",
   "execution_count": 34,
   "metadata": {},
   "outputs": [
    {
     "name": "stdout",
     "output_type": "stream",
     "text": [
      "1 40\n",
      "2 40\n",
      "3 40\n",
      "4 40\n",
      "5 40\n",
      "6 40\n",
      "7 40\n",
      "8 40\n",
      "9 40\n",
      "10 40\n",
      "11 40\n",
      "12 40\n",
      "13 40\n",
      "14 40\n",
      "15 40\n",
      "16 40\n",
      "17 40\n",
      "18 40\n",
      "19 40\n",
      "20 40\n",
      "21 40\n",
      "22 40\n",
      "23 40\n",
      "24 40\n",
      "25 40\n",
      "26 40\n",
      "27 40\n",
      "28 40\n",
      "29 40\n",
      "30 40\n",
      "31 40\n",
      "32 40\n",
      "33 40\n",
      "34 40\n",
      "35 40\n",
      "36 40\n",
      "37 40\n",
      "38 40\n",
      "39 40\n",
      "40 40\n"
     ]
    }
   ],
   "source": [
    "siguiente = \"https://listado.mercadolibre.com.ar/aire-acondicionado\"\n",
    "\n",
    "while True:\n",
    "    r = requests.get(siguiente)\n",
    "    if r.status_code == 200:\n",
    "        soup = BeautifulSoup(r.content, \"html.parser\")\n",
    "        #Titulos\n",
    "        articulo = soup.find_all(\"h2\", attrs={\"class\":\"ui-search-item__title shops__item-title\"})\n",
    "        articulo = [i.text for i in articulo]\n",
    "        lista_articulo.extend(articulo)\n",
    "        #Precios\n",
    "        dom = etree.HTML(str(soup))\n",
    "        precios = dom.xpath('//li[@class=\"ui-search-layout__item shops__layout-item\"]//div[@class=\"ui-search-result__content-columns shops__content-columns\"]//div[@class=\"ui-search-result__content-column ui-search-result__content-column--left shops__content-columns-left\"]/div[1]/div//div[@class=\"ui-search-price__second-line shops__price-second-line\"]//span[@class=\"price-tag-amount\"]/span[2]')\n",
    "        precios = [i.text for i in precios]\n",
    "        lista_precios.extend(precios)\n",
    "        ini = soup.find (\"span\", attrs={\"class\":'andes-pagination__link'}).text\n",
    "        ini=int(ini)\n",
    "        fin = soup.find(\"li\", attrs={'class':\"andes-pagination__page-count\"})\n",
    "        fin = int(fin.text.split(\" \")[1])\n",
    "        #Urls\n",
    "        urls = soup.find_all(\"a\",attrs={\"class\": \"ui-search-item__group__element shops__items-group-details ui-search-link\"})\n",
    "        urls = [i.get(\"href\") for i in urls]\n",
    "        lista_url.extend(urls)\n",
    "\n",
    "    else:\n",
    "        break\n",
    "    print(ini,fin)\n",
    "\n",
    "    if ini==fin:\n",
    "        break\n",
    "    siguiente = dom.xpath('//div [@class=\"ui-search-pagination shops__pagination-content\"]/ul/li[contains(@class,\"--next\")]/a')[0].get(\"href\")"
   ]
  },
  {
   "cell_type": "code",
   "execution_count": 70,
   "metadata": {},
   "outputs": [
    {
     "data": {
      "text/html": [
       "<div>\n",
       "<style scoped>\n",
       "    .dataframe tbody tr th:only-of-type {\n",
       "        vertical-align: middle;\n",
       "    }\n",
       "\n",
       "    .dataframe tbody tr th {\n",
       "        vertical-align: top;\n",
       "    }\n",
       "\n",
       "    .dataframe thead th {\n",
       "        text-align: right;\n",
       "    }\n",
       "</style>\n",
       "<table border=\"1\" class=\"dataframe\">\n",
       "  <thead>\n",
       "    <tr style=\"text-align: right;\">\n",
       "      <th></th>\n",
       "      <th>Unnamed: 0</th>\n",
       "      <th>Articulos</th>\n",
       "      <th>Precios</th>\n",
       "      <th>Urls</th>\n",
       "    </tr>\n",
       "  </thead>\n",
       "  <tbody>\n",
       "    <tr>\n",
       "      <th>0</th>\n",
       "      <td>0</td>\n",
       "      <td>Aire acondicionado Likon  mini split  frío/cal...</td>\n",
       "      <td>99.999</td>\n",
       "      <td>https://www.mercadolibre.com.ar/aire-acondicio...</td>\n",
       "    </tr>\n",
       "    <tr>\n",
       "      <th>1</th>\n",
       "      <td>1</td>\n",
       "      <td>Aire Acondicionado Likon Split Frío/calor3500w...</td>\n",
       "      <td>99.999</td>\n",
       "      <td>https://articulo.mercadolibre.com.ar/MLA-82220...</td>\n",
       "    </tr>\n",
       "    <tr>\n",
       "      <th>2</th>\n",
       "      <td>2</td>\n",
       "      <td>Aire Acondicionado Split Inverter Frío/calor S...</td>\n",
       "      <td>184.999</td>\n",
       "      <td>https://articulo.mercadolibre.com.ar/MLA-11984...</td>\n",
       "    </tr>\n",
       "    <tr>\n",
       "      <th>3</th>\n",
       "      <td>3</td>\n",
       "      <td>Aire acondicionado Philco  split  frío/calor 2...</td>\n",
       "      <td>103.999</td>\n",
       "      <td>https://www.mercadolibre.com.ar/aire-acondicio...</td>\n",
       "    </tr>\n",
       "    <tr>\n",
       "      <th>4</th>\n",
       "      <td>4</td>\n",
       "      <td>Aire acondicionado Philco  split  frío/calor 2...</td>\n",
       "      <td>99.999</td>\n",
       "      <td>https://www.mercadolibre.com.ar/aire-acondicio...</td>\n",
       "    </tr>\n",
       "    <tr>\n",
       "      <th>...</th>\n",
       "      <td>...</td>\n",
       "      <td>...</td>\n",
       "      <td>...</td>\n",
       "      <td>...</td>\n",
       "    </tr>\n",
       "    <tr>\n",
       "      <th>2009</th>\n",
       "      <td>2009</td>\n",
       "      <td>Aire Acondicionado Hyundai Inverter 3224w Frio...</td>\n",
       "      <td>152.999</td>\n",
       "      <td>https://articulo.mercadolibre.com.ar/MLA-11932...</td>\n",
       "    </tr>\n",
       "    <tr>\n",
       "      <th>2010</th>\n",
       "      <td>2010</td>\n",
       "      <td>Aire Acondicinado Samsung 2250 Fc Repuestos</td>\n",
       "      <td>3.000</td>\n",
       "      <td>https://articulo.mercadolibre.com.ar/MLA-89690...</td>\n",
       "    </tr>\n",
       "    <tr>\n",
       "      <th>2011</th>\n",
       "      <td>2011</td>\n",
       "      <td>Aire Surrey Piso Techo 3tr / 9000 Frigorías F/...</td>\n",
       "      <td>497.799</td>\n",
       "      <td>https://articulo.mercadolibre.com.ar/MLA-61816...</td>\n",
       "    </tr>\n",
       "    <tr>\n",
       "      <th>2012</th>\n",
       "      <td>2012</td>\n",
       "      <td>Aire Ac Multisplit Midea 21000fr Reparamos Arr...</td>\n",
       "      <td>800</td>\n",
       "      <td>https://articulo.mercadolibre.com.ar/MLA-11789...</td>\n",
       "    </tr>\n",
       "    <tr>\n",
       "      <th>2013</th>\n",
       "      <td>2013</td>\n",
       "      <td>Aire Acondicionado Midea Inverter 2967kcal/h F...</td>\n",
       "      <td>144.999</td>\n",
       "      <td>https://articulo.mercadolibre.com.ar/MLA-11586...</td>\n",
       "    </tr>\n",
       "  </tbody>\n",
       "</table>\n",
       "<p>2014 rows × 4 columns</p>\n",
       "</div>"
      ],
      "text/plain": [
       "      Unnamed: 0                                          Articulos  Precios  \\\n",
       "0              0  Aire acondicionado Likon  mini split  frío/cal...   99.999   \n",
       "1              1  Aire Acondicionado Likon Split Frío/calor3500w...   99.999   \n",
       "2              2  Aire Acondicionado Split Inverter Frío/calor S...  184.999   \n",
       "3              3  Aire acondicionado Philco  split  frío/calor 2...  103.999   \n",
       "4              4  Aire acondicionado Philco  split  frío/calor 2...   99.999   \n",
       "...          ...                                                ...      ...   \n",
       "2009        2009  Aire Acondicionado Hyundai Inverter 3224w Frio...  152.999   \n",
       "2010        2010        Aire Acondicinado Samsung 2250 Fc Repuestos    3.000   \n",
       "2011        2011  Aire Surrey Piso Techo 3tr / 9000 Frigorías F/...  497.799   \n",
       "2012        2012  Aire Ac Multisplit Midea 21000fr Reparamos Arr...      800   \n",
       "2013        2013  Aire Acondicionado Midea Inverter 2967kcal/h F...  144.999   \n",
       "\n",
       "                                                   Urls  \n",
       "0     https://www.mercadolibre.com.ar/aire-acondicio...  \n",
       "1     https://articulo.mercadolibre.com.ar/MLA-82220...  \n",
       "2     https://articulo.mercadolibre.com.ar/MLA-11984...  \n",
       "3     https://www.mercadolibre.com.ar/aire-acondicio...  \n",
       "4     https://www.mercadolibre.com.ar/aire-acondicio...  \n",
       "...                                                 ...  \n",
       "2009  https://articulo.mercadolibre.com.ar/MLA-11932...  \n",
       "2010  https://articulo.mercadolibre.com.ar/MLA-89690...  \n",
       "2011  https://articulo.mercadolibre.com.ar/MLA-61816...  \n",
       "2012  https://articulo.mercadolibre.com.ar/MLA-11789...  \n",
       "2013  https://articulo.mercadolibre.com.ar/MLA-11586...  \n",
       "\n",
       "[2014 rows x 4 columns]"
      ]
     },
     "execution_count": 70,
     "metadata": {},
     "output_type": "execute_result"
    }
   ],
   "source": [
    "datos = pd.DataFrame({\"Articulos\":lista_articulo, \"Precios\":lista_precios, \"Urls\":lista_url})\n",
    "datos = pd.read_csv (\"aire-acondicionado.csv\", header=0)\n",
    "datos"
   ]
  }
 ],
 "metadata": {
  "kernelspec": {
   "display_name": "Python 3.8.10 64-bit",
   "language": "python",
   "name": "python3"
  },
  "language_info": {
   "codemirror_mode": {
    "name": "ipython",
    "version": 3
   },
   "file_extension": ".py",
   "mimetype": "text/x-python",
   "name": "python",
   "nbconvert_exporter": "python",
   "pygments_lexer": "ipython3",
   "version": "3.8.10"
  },
  "orig_nbformat": 4,
  "vscode": {
   "interpreter": {
    "hash": "e19ee553fc64cce77873e879afc212a01ee83251cce24a52e24adb9d79f10e76"
   }
  }
 },
 "nbformat": 4,
 "nbformat_minor": 2
}
